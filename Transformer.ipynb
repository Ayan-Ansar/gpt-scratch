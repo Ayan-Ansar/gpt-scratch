{
 "cells": [
  {
   "cell_type": "code",
   "execution_count": 161,
   "id": "c0c5e101-54da-483a-94ae-0334c254d630",
   "metadata": {},
   "outputs": [],
   "source": [
    "import torch\n",
    "import torch.nn.functional as F\n",
    "import matplotlib.pyplot as plt\n",
    "%matplotlib inline\n",
    "import warnings \n",
    "import random\n",
    "import torch.nn as nn\n",
    "\n",
    "warnings.filterwarnings('ignore')\n",
    "torch.manual_seed(220);"
   ]
  },
  {
   "cell_type": "code",
   "execution_count": 226,
   "id": "8fac0ea7-4930-4ee5-bd80-28efdb87c3b2",
   "metadata": {},
   "outputs": [],
   "source": [
    "batch_size = 32 # how many independent sequences we will process in parallel\n",
    "block_size = 8 # what is the maximum context length for predictions\n",
    "max_iters = 3000\n",
    "eval_interval = 300\n",
    "learning_rate = 1e-5\n",
    "device = 'cuda' if torch.cuda.is_available() else 'cpu'\n",
    "eval_iters = 200 \n",
    "batch_size = 32"
   ]
  },
  {
   "cell_type": "code",
   "execution_count": 163,
   "id": "6a875ff6-11db-4799-b735-352560553702",
   "metadata": {},
   "outputs": [
    {
     "data": {
      "text/plain": [
       "['emma', 'olivia', 'ava', 'isabella', 'sophia', 'charlotte', 'mia', 'amelia']"
      ]
     },
     "execution_count": 163,
     "metadata": {},
     "output_type": "execute_result"
    }
   ],
   "source": [
    "with open('names.txt', 'r') as f:\n",
    "    words = f.read().splitlines()\n",
    "\n",
    "words[:8]"
   ]
  },
  {
   "cell_type": "code",
   "execution_count": 164,
   "id": "b4a81e00-7ca2-4bc0-90cb-a46ef2de23c6",
   "metadata": {},
   "outputs": [
    {
     "name": "stdout",
     "output_type": "stream",
     "text": [
      "{1: 'a', 2: 'b', 3: 'c', 4: 'd', 5: 'e', 6: 'f', 7: 'g', 8: 'h', 9: 'i', 10: 'j', 11: 'k', 12: 'l', 13: 'm', 14: 'n', 15: 'o', 16: 'p', 17: 'q', 18: 'r', 19: 's', 20: 't', 21: 'u', 22: 'v', 23: 'w', 24: 'x', 25: 'y', 26: 'z', 0: '.'}\n",
      "27\n"
     ]
    }
   ],
   "source": [
    "# encoding letters to integers\n",
    "charset = sorted(set(''.join(words)))\n",
    "stoi = {s:i+1 for i,s in enumerate(charset)}\n",
    "stoi['.'] = 0\n",
    "vocab_size = len(stoi)\n",
    "itos = {i:s for s,i in stoi.items()}\n",
    "print(itos)\n",
    "print(vocab_size)"
   ]
  },
  {
   "cell_type": "code",
   "execution_count": 165,
   "id": "efec1c74-e57d-40fd-bb93-12aff4c53f65",
   "metadata": {},
   "outputs": [],
   "source": [
    "# Creating the dataset \n",
    "\n",
    "def build_dataset(words):\n",
    "    X = []\n",
    "    Y = []\n",
    "    for w in words:\n",
    "        context = [0]*block_size \n",
    "        # print(w)\n",
    "        for char in w + '.':\n",
    "            X.append(context)\n",
    "            Y.append(stoi[char])\n",
    "            # print(f'{[itos[i] for i in context]} --> {char}')\n",
    "            context = context[1:] + [stoi[char]]\n",
    "    \n",
    "    X = torch.tensor(X)\n",
    "    Y = torch.tensor(Y)\n",
    "    return X, Y \n",
    "\n",
    "random.seed(42)\n",
    "random.shuffle(words)\n",
    "n1 = int(0.8*len(words))\n",
    "n2 = int(0.9*len(words))\n",
    "\n",
    "Xtr, Ytr = build_dataset(words[:n1])\n",
    "XDev, YDev = build_dataset(words[n1:n2])\n",
    "Xts, Yts  = build_dataset(words[n2:])"
   ]
  },
  {
   "cell_type": "code",
   "execution_count": 166,
   "id": "3cf7e2dc-c9c1-4925-bf18-9b4ebd3d3410",
   "metadata": {},
   "outputs": [],
   "source": [
    "def get_batch(split):\n",
    "    X, Y  = {'train': (Xtr, Ytr),\n",
    "            'val' : (XDev, YDev)}[split]\n",
    "    ix = torch.randint(0, X.shape[0], (batch_size,))\n",
    "    xb, yb = X[ix].to(device), Y[ix].to(device)\n",
    "    return xb, yb"
   ]
  },
  {
   "cell_type": "code",
   "execution_count": 167,
   "id": "6d23cd3c-c531-4efb-880f-cde10c9c17f2",
   "metadata": {},
   "outputs": [],
   "source": [
    "@torch.no_grad()\n",
    "def split_loss(split):\n",
    "    x, y = {'train': (Xtr, Ytr),\n",
    "            'dev' : (XDev, YDev),\n",
    "            'test' : (Xts, Yts)}[split]\n",
    "    logits = model(x)\n",
    "    loss = F.cross_entropy(logits, y)\n",
    "    print(split, loss.item())\n",
    "    \n",
    "# split_loss('train')\n",
    "# split_loss('dev')"
   ]
  },
  {
   "cell_type": "code",
   "execution_count": 168,
   "id": "78b642b6-e42c-44f9-a798-32bbb749f2e9",
   "metadata": {},
   "outputs": [],
   "source": [
    "class Head(nn.Module):\n",
    "    def __init__(self, head_size):\n",
    "        super().__init__()\n",
    "        self.key = nn.Linear(vocab_size, head_size, bias=False)\n",
    "        self.query = nn.Linear(vocab_size, head_size, bias=False)\n",
    "        self.value = nn.Linear(vocab_size, head_size, bias=False)\n",
    "        self.register_buffer('tril', torch.tril(torch.ones(block_size, block_size)))\n",
    "        \n",
    "    def forward(self, x):\n",
    "        B,T,C = x.shape\n",
    "        k = self.key(x) # (B,T,C)\n",
    "        q = self.query(x) # (B,T,C)\n",
    "        \n",
    "        # compute attention scores ('affinities')        \n",
    "        wei = q @ k.transpose(-2, -1) * C**-0.5 # (B,T,C) @ (B,C,T) --> (B,T,T)\n",
    "        wei = wei.masked_fill(self.tril[:T,:T] == 0, float('-inf'))\n",
    "        wei = F.softmax(wei, dim=-1) # (B,T,T)\n",
    "        # perform the weighted aggregation of values \n",
    "        v = self.value(x)\n",
    "        out = wei @ v # (B,T,T) @ (B,T,C) --> (B,T,C)\n",
    "        return out "
   ]
  },
  {
   "cell_type": "code",
   "execution_count": 184,
   "id": "5e34a204-f81f-42dd-afa1-bede8c3c266e",
   "metadata": {},
   "outputs": [],
   "source": [
    "class BigramLngModel(nn.Module):\n",
    "\n",
    "    def __init__(self, vocab_size):\n",
    "        super().__init__()\n",
    "        self.token_embedding_table = nn.Embedding(vocab_size, vocab_size)\n",
    "        self.pos_embedding_table = nn.Embedding(block_size, vocab_size)\n",
    "        self.sa = Head(16)\n",
    "        self.linear = nn.Linear(16*block_size, vocab_size)\n",
    "        self.tanh = nn.Tanh()\n",
    "        \n",
    "    def forward(self, x, targets=None):\n",
    "        B, T = x.shape\n",
    "        tok = self.token_embedding_table(x) # B, T, C / 32, 3, 27\n",
    "        pos = self.pos_embedding_table(torch.arange(T, device=device))\n",
    "        x = tok + pos \n",
    "        x = self.sa(x)\n",
    "        x = x.view(B, -1)\n",
    "        x = torch.tanh(x)\n",
    "        logits = self.linear(x)\n",
    "        if targets is None:\n",
    "            loss = None\n",
    "        else:\n",
    "            loss = F.cross_entropy(logits, targets)\n",
    "        return logits, loss\n",
    "\n",
    "    def generate(self, names):\n",
    "        # idx is (B, T) array of indices in the current context \n",
    "        for _ in range(names):\n",
    "            out = []\n",
    "            context = [0]*block_size\n",
    "            while True:\n",
    "                logits,_ = model(torch.tensor([context]).to(device))\n",
    "                probs = F.softmax(logits, dim=1)\n",
    "                ix = torch.multinomial(probs, num_samples=1).item()\n",
    "                context = context[1:] + [ix]\n",
    "                out.append(ix)\n",
    "                if ix == 0:\n",
    "                    break\n",
    "        \n",
    "            print(''.join(itos[i] for i in out))"
   ]
  },
  {
   "cell_type": "code",
   "execution_count": 185,
   "id": "328986b1-dffc-42bc-a007-58a212787918",
   "metadata": {},
   "outputs": [],
   "source": [
    "model = BigramLngModel(vocab_size)\n",
    "m = model.to(device)\n",
    "\n",
    "# create a pytorch optimizer\n"
   ]
  },
  {
   "cell_type": "code",
   "execution_count": 227,
   "id": "6ed45cbe-72f7-4074-aca4-69a66a594c1a",
   "metadata": {},
   "outputs": [],
   "source": [
    "optimizer = torch.optim.AdamW(model.parameters(), lr=learning_rate)\n"
   ]
  },
  {
   "cell_type": "code",
   "execution_count": 228,
   "id": "9fe1b5fe-f9ef-4731-89f5-c4e6eddf9d3b",
   "metadata": {},
   "outputs": [],
   "source": [
    "lossi = []"
   ]
  },
  {
   "cell_type": "code",
   "execution_count": null,
   "id": "a2674b53-2341-484a-9a37-0a8f0632fe1e",
   "metadata": {},
   "outputs": [
    {
     "name": "stdout",
     "output_type": "stream",
     "text": [
      "2.2267\n",
      "2.0966\n",
      "2.0086\n",
      "2.3684\n",
      "1.9308\n",
      "2.3239\n",
      "2.1731\n",
      "2.6377\n",
      "2.0369\n"
     ]
    }
   ],
   "source": [
    "for iter in range(max_iters):\n",
    "    \n",
    "    # every once in a while evaluate the loss on train and val sets \n",
    "    # if iter %  eval_interval == 0:\n",
    "    # if iter %  eval_interval == \n",
    "    #     loss = estimate_loss()\n",
    "    #     print(f\"step {iter}: train loss {loss['train']:.4f}, val loss {loss['val']:.4f}\")\n",
    "    \n",
    "    # sample a batch of training examples\n",
    "    xb, yb = get_batch('train')\n",
    "    \n",
    "    # evaluate the loss \n",
    "    logits, loss = model(xb,yb)\n",
    "    optimizer.zero_grad(set_to_none=True)\n",
    "    loss.backward()\n",
    "    optimizer.step() \n",
    "    if iter %  eval_interval == 0:\n",
    "        print(f'{loss.item():.4f}')\n",
    "    lossi.append(loss.item())"
   ]
  },
  {
   "cell_type": "code",
   "execution_count": null,
   "id": "50569ee0-412d-4875-a10f-4bf75152e0b6",
   "metadata": {},
   "outputs": [],
   "source": [
    "plt.plot(torch.tensor(lossi).view(-1, 100).mean(dim=1))"
   ]
  },
  {
   "cell_type": "code",
   "execution_count": null,
   "id": "258ce319-015d-4f6b-b5f8-ae02d78b35a3",
   "metadata": {},
   "outputs": [],
   "source": [
    "m.generate(10)"
   ]
  },
  {
   "cell_type": "code",
   "execution_count": null,
   "id": "2baa66b1-36e0-48b6-9d95-e7e3094c94f1",
   "metadata": {},
   "outputs": [],
   "source": []
  }
 ],
 "metadata": {
  "kernelspec": {
   "display_name": "Python 3 (ipykernel)",
   "language": "python",
   "name": "python3"
  },
  "language_info": {
   "codemirror_mode": {
    "name": "ipython",
    "version": 3
   },
   "file_extension": ".py",
   "mimetype": "text/x-python",
   "name": "python",
   "nbconvert_exporter": "python",
   "pygments_lexer": "ipython3",
   "version": "3.8.18"
  }
 },
 "nbformat": 4,
 "nbformat_minor": 5
}
