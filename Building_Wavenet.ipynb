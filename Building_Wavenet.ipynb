{
 "cells": [
  {
   "cell_type": "code",
   "execution_count": 1,
   "id": "a068986d-9d7a-411a-865e-759ca4ad2bbb",
   "metadata": {},
   "outputs": [],
   "source": [
    "import torch\n",
    "import torch.nn.functional as F\n",
    "import matplotlib.pyplot as plt\n",
    "%matplotlib inline\n",
    "import warnings \n",
    "import random\n",
    "\n",
    "warnings.filterwarnings('ignore')"
   ]
  },
  {
   "cell_type": "code",
   "execution_count": 2,
   "id": "5fff2736-c8bb-46f4-ba5f-0459e5fa6c2e",
   "metadata": {},
   "outputs": [
    {
     "name": "stdout",
     "output_type": "stream",
     "text": [
      "32033\n",
      "15\n"
     ]
    },
    {
     "data": {
      "text/plain": [
       "['emma', 'olivia', 'ava', 'isabella', 'sophia', 'charlotte', 'mia', 'amelia']"
      ]
     },
     "execution_count": 2,
     "metadata": {},
     "output_type": "execute_result"
    }
   ],
   "source": [
    "with open('names.txt', 'r') as f:\n",
    "    words = f.read().splitlines()\n",
    "\n",
    "print(len(words))\n",
    "print(max(len(word) for word in words))\n",
    "words[:8]"
   ]
  },
  {
   "cell_type": "code",
   "execution_count": 3,
   "id": "d60c5f5e-33a3-4205-a75e-810ca2fded19",
   "metadata": {
    "scrolled": true
   },
   "outputs": [
    {
     "name": "stdout",
     "output_type": "stream",
     "text": [
      "itos = {1: 'a', 2: 'b', 3: 'c', 4: 'd', 5: 'e', 6: 'f', 7: 'g', 8: 'h', 9: 'i', 10: 'j', 11: 'k', 12: 'l', 13: 'm', 14: 'n', 15: 'o', 16: 'p', 17: 'q', 18: 'r', 19: 's', 20: 't', 21: 'u', 22: 'v', 23: 'w', 24: 'x', 25: 'y', 26: 'z', 0: '.'}\n",
      "vocab_size = 27\n"
     ]
    }
   ],
   "source": [
    "# encoding letters to integers\n",
    "charset = sorted(set(''.join(words)))\n",
    "stoi = {s:i+1 for i,s in enumerate(charset)}\n",
    "stoi['.'] = 0\n",
    "\n",
    "itos = {i:s for s,i in stoi.items()}\n",
    "vocab_size = len(itos)\n",
    "print(f'{itos = }')\n",
    "print(f'{vocab_size = }')"
   ]
  },
  {
   "cell_type": "code",
   "execution_count": 4,
   "id": "c8e4a53d-3a5f-4dd0-863f-708ae7bf3dbd",
   "metadata": {},
   "outputs": [],
   "source": [
    "import random\n",
    "random.seed(42)\n",
    "random.shuffle(words)"
   ]
  },
  {
   "cell_type": "code",
   "execution_count": 5,
   "id": "5feccf8b-c7d8-4329-8d80-c64892c4a817",
   "metadata": {},
   "outputs": [
    {
     "name": "stdout",
     "output_type": "stream",
     "text": [
      "torch.Size([182580, 8]) torch.Size([182580])\n",
      "torch.Size([22767, 8]) torch.Size([22767])\n",
      "torch.Size([22799, 8]) torch.Size([22799])\n"
     ]
    }
   ],
   "source": [
    "# Creating the dataset \n",
    "block_size = 8\n",
    "\n",
    "def build_dataset(words):\n",
    "    X = []\n",
    "    Y = []\n",
    "    for w in words:\n",
    "        context = [0]*block_size \n",
    "        # print(w)\n",
    "        for char in w + '.':\n",
    "            X.append(context)\n",
    "            Y.append(stoi[char])\n",
    "            # print(f'{[itos[i] for i in context]} --> {char}')\n",
    "            context = context[1:] + [stoi[char]]\n",
    "    \n",
    "    X = torch.tensor(X)\n",
    "    Y = torch.tensor(Y)\n",
    "    print(X.shape, Y.shape)\n",
    "    return X, Y \n",
    "\n",
    "random.seed(42)\n",
    "random.shuffle(words)\n",
    "n1 = int(0.8*len(words))\n",
    "n2 = int(0.9*len(words))\n",
    "\n",
    "Xtr, Ytr = build_dataset(words[:n1])\n",
    "XDev, YDev = build_dataset(words[n1:n2])\n",
    "Xts, Yts  = build_dataset(words[n2:])"
   ]
  },
  {
   "cell_type": "code",
   "execution_count": 6,
   "id": "19eb5310-8475-4971-bd89-a7865b00ed2a",
   "metadata": {},
   "outputs": [
    {
     "name": "stdout",
     "output_type": "stream",
     "text": [
      "........ ---> e\n",
      ".......e ---> b\n",
      "......eb ---> r\n",
      ".....ebr ---> i\n",
      "....ebri ---> m\n",
      "...ebrim ---> a\n",
      "..ebrima ---> .\n",
      "........ ---> h\n",
      ".......h ---> i\n",
      "......hi ---> l\n",
      ".....hil ---> t\n",
      "....hilt ---> o\n",
      "...hilto ---> n\n",
      "..hilton ---> .\n",
      "........ ---> j\n",
      ".......j ---> h\n",
      "......jh ---> e\n",
      ".....jhe ---> n\n",
      "....jhen ---> e\n",
      "...jhene ---> .\n"
     ]
    }
   ],
   "source": [
    "for x, y in zip(Xtr[:20], Ytr[:20]):\n",
    "    print(''.join(itos[ix.item()] for ix in x),'--->', itos[y.item()])"
   ]
  },
  {
   "cell_type": "code",
   "execution_count": 7,
   "id": "c89328e7-82bf-4475-8589-f6b5f0d92283",
   "metadata": {},
   "outputs": [],
   "source": [
    "class Linear:\n",
    "    def __init__(self, fan_in, fan_out, bias=True):\n",
    "        self.weight = torch.randn((fan_in, fan_out)) / fan_in**0.5 \n",
    "        self.bias = torch.randn(fan_out) if bias else None \n",
    "\n",
    "    def __call__(self, x):\n",
    "        self.out = x @ self.weight\n",
    "        if self.bias is not None:\n",
    "            self.out += self.bias \n",
    "\n",
    "        return self.out \n",
    "\n",
    "    def parameters(self):\n",
    "        return [self.weight] + ([] if self.bias is None else [self.bias]) "
   ]
  },
  {
   "cell_type": "code",
   "execution_count": 8,
   "id": "bb803ab1-bbec-4aab-bb6b-baf068ea3998",
   "metadata": {},
   "outputs": [],
   "source": [
    "class BatchNorm1d:\n",
    "    def __init__(self, dim, eps = 1e-5, momentum = 0.1):\n",
    "        self.eps = eps\n",
    "        self.momentum = momentum \n",
    "        self.training = True\n",
    "        # parameters trained with backprop\n",
    "        self.gamma = torch.ones(dim)\n",
    "        self.beta = torch.zeros(dim)\n",
    "\n",
    "        # buffers updated with running momentum \n",
    "        self.running_mean = torch.zeros(dim)\n",
    "        self.running_var = torch.ones(dim) \n",
    "\n",
    "    def __call__(self, x):\n",
    "        if self.training:\n",
    "            if x.ndim == 2:\n",
    "                dim = 0 \n",
    "            elif x.ndim == 3:\n",
    "                dim = (0,1)\n",
    "            xmean = x.mean(dim, keepdims=True)\n",
    "            xvar = x.var(dim, keepdims=True)\n",
    "\n",
    "        else:\n",
    "            xmean = self.running_mean \n",
    "            xvar = self.running_var \n",
    "\n",
    "        xhat = (x - xmean) / torch.sqrt(xvar + self.eps) \n",
    "        self.out = self.gamma * xhat + self.beta \n",
    "\n",
    "        if self.training:\n",
    "            self.running_mean = (1. - self.momentum) * self.running_mean + self.momentum*xmean \n",
    "            self.running_var = (1. - self.momentum) * self.running_var + self.momentum*xvar\n",
    "\n",
    "        return self.out \n",
    "\n",
    "    def parameters(self):\n",
    "        return [self.gamma, self.beta] "
   ]
  },
  {
   "cell_type": "code",
   "execution_count": 9,
   "id": "641919d6-fe8b-4bc4-82ac-79f799916ef0",
   "metadata": {},
   "outputs": [],
   "source": [
    "class Tanh:\n",
    "    def __call__(self, x):\n",
    "        self.out = torch.tanh(x)\n",
    "        return self.out\n",
    "    \n",
    "    def parameters(self):\n",
    "        return []"
   ]
  },
  {
   "cell_type": "code",
   "execution_count": 10,
   "id": "36fd1687-f8eb-4c89-9a52-34022d48781e",
   "metadata": {},
   "outputs": [],
   "source": [
    "class Embedding:\n",
    "    def __init__(self,vocab_size, embedding_dim):\n",
    "        self.weight = torch.randn((vocab_size, embedding_dim))\n",
    "\n",
    "    def __call__(self, x):\n",
    "        self.out = self.weight[x]\n",
    "        return self.out\n",
    "        \n",
    "    def parameters(self):\n",
    "        return [self.weight]"
   ]
  },
  {
   "cell_type": "code",
   "execution_count": 11,
   "id": "6f871dce-fdb1-4886-83ce-4decbb44a3f2",
   "metadata": {},
   "outputs": [],
   "source": [
    "class FlattenConsecutive:\n",
    "    def __init__(self, n):\n",
    "        self.n = n\n",
    "        \n",
    "    def __call__(self, x):\n",
    "        B, T, C = x.shape\n",
    "        x = x.view(B, T//self.n, C*self.n)\n",
    "        if x.shape[1] == 1:\n",
    "            x = x.squeeze(1)\n",
    "        self.out = x\n",
    "        return self.out\n",
    "\n",
    "    def parameters(self):\n",
    "        return []"
   ]
  },
  {
   "cell_type": "code",
   "execution_count": 12,
   "id": "8d6e0785-344a-48b0-9608-94f59156cadb",
   "metadata": {},
   "outputs": [],
   "source": [
    "class Sequential:\n",
    "    def __init__(self, layers):\n",
    "        self.layers = layers\n",
    "        \n",
    "    def __call__(self, x):\n",
    "        self.out = x\n",
    "        for layer in self.layers:\n",
    "            self.out = layer(self.out)\n",
    "        return self.out\n",
    "\n",
    "    def parameters(self):\n",
    "        return [p for layer in self.layers for p in layer.parameters()] "
   ]
  },
  {
   "cell_type": "code",
   "execution_count": 13,
   "id": "5d28eaa2-f9e3-4666-9d25-4384da3c5b9f",
   "metadata": {},
   "outputs": [],
   "source": [
    "torch.manual_seed(42);"
   ]
  },
  {
   "cell_type": "code",
   "execution_count": 14,
   "id": "6a2d9bab-5bd5-4a59-9430-ee3b3449940b",
   "metadata": {},
   "outputs": [
    {
     "name": "stdout",
     "output_type": "stream",
     "text": [
      "22397\n"
     ]
    }
   ],
   "source": [
    "n_emb = 10\n",
    "n_hidden = 68\n",
    "\n",
    "model = Sequential([ \n",
    "    Embedding(vocab_size, n_emb),\n",
    "    FlattenConsecutive(2), Linear(n_emb*2, n_hidden, bias=False), BatchNorm1d(n_hidden), Tanh(), \n",
    "    FlattenConsecutive(2), Linear(n_hidden*2, n_hidden, bias=False), BatchNorm1d(n_hidden), Tanh(), \n",
    "    FlattenConsecutive(2), Linear(n_hidden*2, n_hidden, bias=False), BatchNorm1d(n_hidden), Tanh(), \n",
    "    Linear(n_hidden, vocab_size)   \n",
    "])\n",
    "\n",
    "with torch.no_grad():\n",
    "    model.layers[-1].weight *= 0.1\n",
    "\n",
    "parameters = model.parameters()\n",
    "print(sum(p.nelement() for p in parameters)) \n",
    "for p in parameters:\n",
    "    p.requires_grad=True"
   ]
  },
  {
   "cell_type": "code",
   "execution_count": null,
   "id": "473c2ef3-e02e-401e-8e49-14ac9d10dcc9",
   "metadata": {},
   "outputs": [
    {
     "name": "stdout",
     "output_type": "stream",
     "text": [
      "      0 /  200000: 3.8951\n",
      "  10000 /  200000: 2.2082\n",
      "  20000 /  200000: 2.4830\n",
      "  30000 /  200000: 1.8707\n",
      "  40000 /  200000: 2.1298\n",
      "  50000 /  200000: 1.8637\n",
      "  60000 /  200000: 1.8972\n",
      "  70000 /  200000: 2.0881\n",
      "  80000 /  200000: 1.5929\n",
      "  90000 /  200000: 1.9128\n",
      " 100000 /  200000: 2.1586\n",
      " 110000 /  200000: 1.7666\n",
      " 120000 /  200000: 1.9674\n",
      " 130000 /  200000: 2.4003\n",
      " 140000 /  200000: 1.9083\n",
      " 150000 /  200000: 1.9191\n",
      " 160000 /  200000: 2.1895\n",
      " 170000 /  200000: 2.2663\n",
      " 180000 /  200000: 2.0459\n"
     ]
    }
   ],
   "source": [
    "# optimization \n",
    "epochs = 200000\n",
    "batch_size = 32\n",
    "lossi = [] \n",
    "ud = []\n",
    "\n",
    "for i in range(epochs):\n",
    "\n",
    "    # minibatch construct \n",
    "    ix = torch.randint(0, Xtr.shape[0], (batch_size,))\n",
    "    xb, yb = Xtr[ix], Ytr[ix] \n",
    "\n",
    "    # Forward pass \n",
    "    logits = model(xb)\n",
    "    loss = F.cross_entropy(logits, yb)\n",
    "\n",
    "    for p in parameters:\n",
    "        p.grad = None\n",
    "    loss.backward() \n",
    "\n",
    "    # update \n",
    "    lr = 0.1 if i < 150000 else 0.01 \n",
    "    for p in parameters:\n",
    "        p.data += -lr*p.grad \n",
    "\n",
    "    # track stats \n",
    "    if i % 10000 == 0:\n",
    "        print(f'{i:7d} / {epochs:7d}: {loss.item():.4f}')\n",
    "    lossi.append(loss.item())\n",
    "\n",
    "    with torch.no_grad():\n",
    "        ud.append([(lr*p.grad.std() / p.data.std()).log10().item() for p in parameters]) # keeps a track of how large the updates are as compared to the actual values in parameters "
   ]
  },
  {
   "cell_type": "code",
   "execution_count": null,
   "id": "484fba9a-1260-4cbb-a23c-eaf79ee4807c",
   "metadata": {},
   "outputs": [],
   "source": [
    "plt.plot(torch.tensor(lossi).view(-1,1000).mean(1))"
   ]
  },
  {
   "cell_type": "code",
   "execution_count": null,
   "id": "76418ae1-e61a-42b6-913d-b182d679daf0",
   "metadata": {},
   "outputs": [],
   "source": [
    "for layer in model.layers:\n",
    "    layer.training=False"
   ]
  },
  {
   "cell_type": "code",
   "execution_count": null,
   "id": "c9bbec16-b4f5-4a6e-a548-65bd5f2338fe",
   "metadata": {},
   "outputs": [],
   "source": [
    "@torch.no_grad()\n",
    "def split_loss(split):\n",
    "    x, y = {'train': (Xtr, Ytr),\n",
    "            'dev' : (XDev, YDev),\n",
    "            'test' : (Xts, Yts)}[split]\n",
    "    logits = model(x)\n",
    "    loss = F.cross_entropy(logits, y)\n",
    "    print(split, loss.item())\n",
    "    \n",
    "split_loss('train')\n",
    "split_loss('dev')"
   ]
  },
  {
   "cell_type": "code",
   "execution_count": null,
   "id": "fc3ebc1c-5abc-49e1-a71f-efd2a3e5d4ec",
   "metadata": {},
   "outputs": [],
   "source": [
    "# inference from the model\n",
    "g = torch.Generator().manual_seed(220 + 10)\n",
    "for _ in range(10):\n",
    "    out = []\n",
    "    context = [0]*block_size\n",
    "    while True:\n",
    "        logits = model(torch.tensor([context]))\n",
    "        probs = F.softmax(logits, dim=1)\n",
    "        ix = torch.multinomial(probs, num_samples=1, generator=g).item()\n",
    "        context = context[1:] + [ix]\n",
    "        out.append(ix)\n",
    "        if ix == 0:\n",
    "            break\n",
    "\n",
    "    print(''.join(itos[i] for i in out))"
   ]
  },
  {
   "cell_type": "code",
   "execution_count": null,
   "id": "ddc6c2df-083e-4b06-b17f-0eb27bef19cd",
   "metadata": {},
   "outputs": [],
   "source": []
  }
 ],
 "metadata": {
  "kernelspec": {
   "display_name": "Python 3 (ipykernel)",
   "language": "python",
   "name": "python3"
  },
  "language_info": {
   "codemirror_mode": {
    "name": "ipython",
    "version": 3
   },
   "file_extension": ".py",
   "mimetype": "text/x-python",
   "name": "python",
   "nbconvert_exporter": "python",
   "pygments_lexer": "ipython3",
   "version": "3.8.18"
  }
 },
 "nbformat": 4,
 "nbformat_minor": 5
}
