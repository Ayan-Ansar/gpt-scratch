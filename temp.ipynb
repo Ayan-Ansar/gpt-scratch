{
 "cells": [
  {
   "cell_type": "code",
   "execution_count": 30,
   "id": "c08a88ad-4364-4dfc-bae5-46aa4f6a36c7",
   "metadata": {},
   "outputs": [],
   "source": [
    "import numpy as np\n",
    "import torch\n",
    "import torch.nn.functional as F\n",
    "import matplotlib.pyplot as plt"
   ]
  },
  {
   "cell_type": "code",
   "execution_count": 5,
   "id": "e4783180-facd-45c6-a5cf-4ae77d720b84",
   "metadata": {},
   "outputs": [],
   "source": [
    "g = torch.Generator().manual_seed(220)"
   ]
  },
  {
   "cell_type": "code",
   "execution_count": 62,
   "id": "68d85828-028b-4802-82a9-6fe2d05e71d4",
   "metadata": {},
   "outputs": [
    {
     "name": "stdout",
     "output_type": "stream",
     "text": [
      "Xtrain: torch.Size([1600, 10]), Ytrain: torch.Size([1600])\n",
      "Xdev: torch.Size([200, 10]), Ytrain: torch.Size([200])\n",
      "Xtest: torch.Size([200, 10]), Ytest: torch.Size([200])\n"
     ]
    }
   ],
   "source": [
    "# Random data points \n",
    "X = torch.randn((2000, 10), generator=g) \n",
    "Y = torch.randint(2, (2000, ), generator=g) \n",
    "\n",
    "n1 = int(0.8 * X.shape[0])\n",
    "n2 = int(0.9 * X.shape[0])\n",
    "\n",
    "Xtr , Ytr = X[:n1] , Y[:n1]\n",
    "Xdv, Ydv = X[n1:n2] , Y[n1:n2] \n",
    "Xts, Yts = X[n2:], Y[n2:]\n",
    "\n",
    "print(f'Xtrain: {Xtr.shape}, Ytrain: {Ytr.shape}')\n",
    "print(f'Xdev: {Xdv.shape}, Ytrain: {Ydv.shape}')\n",
    "print(f'Xtest: {Xts.shape}, Ytest: {Yts.shape}')"
   ]
  },
  {
   "cell_type": "code",
   "execution_count": 63,
   "id": "951724d3-54c6-4ebb-8362-dac11b82d417",
   "metadata": {},
   "outputs": [
    {
     "name": "stdout",
     "output_type": "stream",
     "text": [
      "Number of Parameters: 1302\n"
     ]
    }
   ],
   "source": [
    "# inititalizing weights and biases \n",
    "n_hidden = 100 \n",
    "batch_size = 32 \n",
    "n_classes = 2 \n",
    "\n",
    "\n",
    "W1 = torch.randn((X.shape[1], n_hidden), generator=g) * 1 / (np.sqrt(X.shape[1]))\n",
    "b1 = torch.randn(n_hidden, generator=g) * 0.5\n",
    "W2 = torch.randn((n_hidden, n_classes), generator=g) * 0.1\n",
    "b2 = torch.randn(n_classes, generator=g) * 0.1\n",
    "\n",
    "parameters = [W1, b1, W2, b2]\n",
    "\n",
    "for p in parameters:\n",
    "    p.requires_grad = True\n",
    "\n",
    "n_parameters = sum(p.nelement() for p in parameters)\n",
    "\n",
    "print(f'Number of Parameters: {n_parameters}')"
   ]
  },
  {
   "cell_type": "code",
   "execution_count": 64,
   "id": "c8ce1586-4eae-44a0-8ca6-4a58dc1a75a4",
   "metadata": {},
   "outputs": [],
   "source": [
    "# Stats tracking\n",
    "loss = []"
   ]
  },
  {
   "cell_type": "code",
   "execution_count": 65,
   "id": "699cf87f-1d1d-4f47-bd42-8516a1c18103",
   "metadata": {},
   "outputs": [
    {
     "name": "stdout",
     "output_type": "stream",
     "text": [
      "0 / 30000 Loss 0.6984554529190063\n",
      "1000 / 30000 Loss 0.6778414249420166\n",
      "2000 / 30000 Loss 0.6695939898490906\n",
      "3000 / 30000 Loss 0.662691593170166\n",
      "4000 / 30000 Loss 0.6562855243682861\n",
      "5000 / 30000 Loss 0.6495975255966187\n",
      "6000 / 30000 Loss 0.642591118812561\n",
      "7000 / 30000 Loss 0.635011613368988\n",
      "8000 / 30000 Loss 0.6269470453262329\n",
      "9000 / 30000 Loss 0.6188234686851501\n",
      "10000 / 30000 Loss 0.6104335784912109\n",
      "11000 / 30000 Loss 0.6017425060272217\n",
      "12000 / 30000 Loss 0.5927139520645142\n",
      "13000 / 30000 Loss 0.5834123492240906\n",
      "14000 / 30000 Loss 0.5735259652137756\n",
      "15000 / 30000 Loss 0.5636498928070068\n",
      "16000 / 30000 Loss 0.5536930561065674\n",
      "17000 / 30000 Loss 0.5441250205039978\n",
      "18000 / 30000 Loss 0.5349782705307007\n",
      "19000 / 30000 Loss 0.5260978937149048\n",
      "20000 / 30000 Loss 0.5177667140960693\n",
      "21000 / 30000 Loss 0.5098817348480225\n",
      "22000 / 30000 Loss 0.5022701025009155\n",
      "23000 / 30000 Loss 0.49515843391418457\n",
      "24000 / 30000 Loss 0.4887760579586029\n",
      "25000 / 30000 Loss 0.48273277282714844\n",
      "26000 / 30000 Loss 0.4768519103527069\n",
      "27000 / 30000 Loss 0.47130826115608215\n",
      "28000 / 30000 Loss 0.466032475233078\n",
      "29000 / 30000 Loss 0.46099627017974854\n"
     ]
    }
   ],
   "source": [
    "# ------------------ TRAINING --------------------- \n",
    "epochs = 30000\n",
    "lr = 0.1 \n",
    "\n",
    "for i in range(epochs):\n",
    "    # initializing batch \n",
    "    # ix = torch.randint(0, Xtr.shape[0], (32, ))\n",
    "    # Xb, Yb = Xtr[ix], Ytr[ix] \n",
    "\n",
    "    \n",
    "\n",
    "    Z1 = Xtr @  W1 + b1 \n",
    "    A1 = torch.relu(Z1) \n",
    "    Z2 = A1 @ W2 + b2 \n",
    "    logits = torch.sigmoid(Z2) \n",
    "    lossi = F.cross_entropy(logits, Ytr) \n",
    "\n",
    "    for p in parameters:\n",
    "        p.grad=None\n",
    "        \n",
    "    lossi.backward() \n",
    "\n",
    "    for p in parameters:\n",
    "        p.data += -lr * p.grad \n",
    "\n",
    "    if i % 1000 == 0:\n",
    "        print(f'{i} / {epochs} Loss {lossi.item()}')\n",
    "        loss.append(lossi.item()) \n",
    "        "
   ]
  },
  {
   "cell_type": "code",
   "execution_count": 66,
   "id": "f3cea354-9420-422a-ac2e-ce50b0b28659",
   "metadata": {},
   "outputs": [
    {
     "data": {
      "text/plain": [
       "[<matplotlib.lines.Line2D at 0x207821ac888>]"
      ]
     },
     "execution_count": 66,
     "metadata": {},
     "output_type": "execute_result"
    },
    {
     "data": {
      "image/png": "[encoded data removed]",
      "text/plain": [
       "<Figure size 640x480 with 1 Axes>"
      ]
     },
     "metadata": {},
     "output_type": "display_data"
    }
   ],
   "source": [
    "plt.plot(loss)"
   ]
  },
  {
   "cell_type": "code",
   "execution_count": 67,
   "id": "3236a5f9-796b-4d6b-9186-f506cfd698a6",
   "metadata": {},
   "outputs": [],
   "source": [
    "@torch.no_grad()\n",
    "def split_loss(split):\n",
    "    x, y = {'train': (Xtr, Ytr),\n",
    "            'dev' : (Xdv, Ydv),\n",
    "            'test': (Xts, Yts)\n",
    "           }[split]\n",
    "\n",
    "    Z1 = x @ W1 + b1 \n",
    "    A1 = torch.relu(Z1)\n",
    "    logits = torch.sigmoid(A1 @ W2 + b2) \n",
    "    loss = F.cross_entropy(logits, y)\n",
    "\n",
    "    print(loss)"
   ]
  },
  {
   "cell_type": "code",
   "execution_count": 68,
   "id": "41688529-b322-4a1c-b94e-5778c1e24b9d",
   "metadata": {},
   "outputs": [
    {
     "name": "stdout",
     "output_type": "stream",
     "text": [
      "tensor(0.4561)\n",
      "tensor(0.7660)\n"
     ]
    }
   ],
   "source": [
    "split_loss('train')\n",
    "split_loss('dev')"
   ]
  },
  {
   "cell_type": "code",
   "execution_count": 28,
   "id": "5ce2ab20-1aba-49f1-85c2-68e3290bf698",
   "metadata": {},
   "outputs": [],
   "source": [
    "import torch\n",
    "import numpy as np"
   ]
  },
  {
   "cell_type": "code",
   "execution_count": 3,
   "id": "3e3b5e54-cd70-4610-a8f2-94dd0f9de4ea",
   "metadata": {},
   "outputs": [],
   "source": [
    "g = torch.Generator().manual_seed(0)"
   ]
  },
  {
   "cell_type": "code",
   "execution_count": 32,
   "id": "a4862a07-7634-4636-a9ce-b6c667e3ce29",
   "metadata": {},
   "outputs": [
    {
     "data": {
      "text/plain": [
       "tensor([[ 0.4988, -0.5233, -0.2515],\n",
       "        [-1.0555, -0.5593, -0.1197]])"
      ]
     },
     "execution_count": 32,
     "metadata": {},
     "output_type": "execute_result"
    }
   ],
   "source": [
    "X = torch.randn((2,3),generator=g)\n",
    "X"
   ]
  },
  {
   "cell_type": "code",
   "execution_count": 33,
   "id": "64feccd3-2a0d-416c-801e-9cf83157c6b4",
   "metadata": {},
   "outputs": [
    {
     "data": {
      "text/plain": [
       "tensor([[-0.1635, -0.2505, -1.0882,  0.0044],\n",
       "        [ 0.2328, -0.8201, -0.6790,  1.4251],\n",
       "        [ 1.9647,  0.7678,  1.9899,  0.7183]])"
      ]
     },
     "execution_count": 33,
     "metadata": {},
     "output_type": "execute_result"
    }
   ],
   "source": [
    "W = torch.randn((3,4), generator=g)\n",
    "W"
   ]
  },
  {
   "cell_type": "code",
   "execution_count": 34,
   "id": "e0c4e03f-9f0f-415b-a70c-533b50164e96",
   "metadata": {},
   "outputs": [
    {
     "data": {
      "text/plain": [
       "tensor([[-0.6975,  0.1112, -0.6879, -0.9242],\n",
       "        [-0.1928,  0.6311,  1.2902, -0.8876]])"
      ]
     },
     "execution_count": 34,
     "metadata": {},
     "output_type": "execute_result"
    }
   ],
   "source": [
    "X @ W"
   ]
  },
  {
   "cell_type": "code",
   "execution_count": 35,
   "id": "071af79c-08b2-44e9-a795-229f0c9bb982",
   "metadata": {},
   "outputs": [
    {
     "data": {
      "text/plain": [
       "tensor([[ 0.4988, -1.0555],\n",
       "        [-0.5233, -0.5593],\n",
       "        [-0.2515, -0.1197]])"
      ]
     },
     "execution_count": 35,
     "metadata": {},
     "output_type": "execute_result"
    }
   ],
   "source": [
    "X1 = X.T\n",
    "X1"
   ]
  },
  {
   "cell_type": "code",
   "execution_count": 36,
   "id": "52aba626-3ff8-45be-9c8a-1e695264db5b",
   "metadata": {},
   "outputs": [
    {
     "data": {
      "text/plain": [
       "array([[-0.69749224, -0.19275944],\n",
       "       [ 0.11117558,  0.6311283 ],\n",
       "       [-0.6878661 ,  1.2901956 ],\n",
       "       [-0.92420673, -0.8876269 ]], dtype=float32)"
      ]
     },
     "execution_count": 36,
     "metadata": {},
     "output_type": "execute_result"
    }
   ],
   "source": [
    "Z = np.dot(W.T, X1) \n",
    "Z"
   ]
  },
  {
   "cell_type": "code",
   "execution_count": 7,
   "id": "7ec952e1-5167-4cbc-92bd-7ca744673053",
   "metadata": {},
   "outputs": [],
   "source": [
    "import numpy as np \n",
    "import matplotlib.pyplot as plt\n",
    "x = np.random.normal(0, 1, 1000)"
   ]
  },
  {
   "cell_type": "code",
   "execution_count": 9,
   "id": "2d50b287-ca27-42e5-9745-430370b90b76",
   "metadata": {},
   "outputs": [
    {
     "data": {
      "text/plain": [
       "(array([ 10.,  27., 101., 183., 227., 209., 158.,  64.,  18.,   3.]),\n",
       " array([-2.908732  , -2.29813137, -1.68753073, -1.07693009, -0.46632945,\n",
       "         0.14427118,  0.75487182,  1.36547246,  1.9760731 ,  2.58667373,\n",
       "         3.19727437]),\n",
       " <BarContainer object of 10 artists>)"
      ]
     },
     "execution_count": 9,
     "metadata": {},
     "output_type": "execute_result"
    },
    {
     "data": {
      "image/png": "[encoded data removed]",
      "text/plain": [
       "<Figure size 640x480 with 1 Axes>"
      ]
     },
     "metadata": {},
     "output_type": "display_data"
    }
   ],
   "source": [
    "plt.hist(x)"
   ]
  },
  {
   "cell_type": "code",
   "execution_count": 10,
   "id": "4a19b4e6-06e9-47e5-b2c6-8c6425305f38",
   "metadata": {},
   "outputs": [],
   "source": [
    "from collections import Counter\n",
    "def create2files(filename):\n",
    "    with open(filname, 'r', encoding='utf-8') as f:\n",
    "        text = f.read()\n",
    "    text = text.replace('.',' ')\n",
    "    \n",
    "    unq_wrds = set(text.split(' '))\n",
    "    cnt_unq_wrds = Counter(text) \n",
    "\n",
    "    with open('fi1e1.txt', 'w') as f:\n",
    "        f.writelines(unq_wrds)\n",
    "        f.writelines(cnt_unq_words)\n",
    "\n",
    "    text2 = f.readlines() \n",
    "    unq_words = [len(set(tweet.split(' '))) for tweet in text2]  \n",
    "    avg_cnt = sum(unq_words) / len(unq_words)"
   ]
  },
  {
   "cell_type": "code",
   "execution_count": 14,
   "id": "f330a993-a1fe-4db4-a7f5-5dbc1d251974",
   "metadata": {},
   "outputs": [],
   "source": [
    "tweets = ['Hi my name is ayan.','The The ball is brown.', 'lettsss gooo.']\n",
    "\n",
    "unq_words = [len(set(tweet.split(' '))) for tweet in tweets]  \n",
    "avg_cnt = sum(unq_words) / len(unq_words)"
   ]
  },
  {
   "cell_type": "code",
   "execution_count": 15,
   "id": "0efb9dad-a61e-4ae5-8d2a-886011a04519",
   "metadata": {},
   "outputs": [
    {
     "data": {
      "text/plain": [
       "[5, 4, 2]"
      ]
     },
     "execution_count": 15,
     "metadata": {},
     "output_type": "execute_result"
    }
   ],
   "source": [
    "unq_words"
   ]
  },
  {
   "cell_type": "code",
   "execution_count": 16,
   "id": "07f34232-feec-4e35-ab7a-fbfae61c491a",
   "metadata": {},
   "outputs": [
    {
     "data": {
      "text/plain": [
       "3.6666666666666665"
      ]
     },
     "execution_count": 16,
     "metadata": {},
     "output_type": "execute_result"
    }
   ],
   "source": [
    "avg_cnt"
   ]
  },
  {
   "cell_type": "code",
   "execution_count": null,
   "id": "2d45d026-36b3-4be5-872e-17fd189caad1",
   "metadata": {},
   "outputs": [],
   "source": []
  }
 ],
 "metadata": {
  "kernelspec": {
   "display_name": "Python 3 (ipykernel)",
   "language": "python",
   "name": "python3"
  },
  "language_info": {
   "codemirror_mode": {
    "name": "ipython",
    "version": 3
   },
   "file_extension": ".py",
   "mimetype": "text/x-python",
   "name": "python",
   "nbconvert_exporter": "python",
   "pygments_lexer": "ipython3",
   "version": "3.8.18"
  }
 },
 "nbformat": 4,
 "nbformat_minor": 5
}
